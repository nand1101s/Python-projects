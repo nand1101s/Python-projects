{
 "cells": [
  {
   "cell_type": "markdown",
   "id": "f3f1e68c",
   "metadata": {},
   "source": [
    "Check if a number is positive or negative using if else"
   ]
  },
  {
   "cell_type": "code",
   "execution_count": 1,
   "id": "0863d681",
   "metadata": {},
   "outputs": [
    {
     "name": "stdout",
     "output_type": "stream",
     "text": [
      "Enter your integer: 40\n",
      "Number is positive\n"
     ]
    }
   ],
   "source": [
    "number_check = int (input(\"Enter your integer: \"))\n",
    "if number_check > 0:\n",
    "    print(\"Number is positive\")\n",
    "elif number_check < 0:\n",
    "    print(\"Number is negative\")\n",
    "else:\n",
    "    print(\"number is zero\")"
   ]
  },
  {
   "cell_type": "code",
   "execution_count": null,
   "id": "413ad264",
   "metadata": {},
   "outputs": [],
   "source": []
  },
  {
   "cell_type": "code",
   "execution_count": null,
   "id": "eccb581c",
   "metadata": {},
   "outputs": [],
   "source": []
  }
 ],
 "metadata": {
  "kernelspec": {
   "display_name": "Python 3",
   "language": "python",
   "name": "python3"
  },
  "language_info": {
   "codemirror_mode": {
    "name": "ipython",
    "version": 3
   },
   "file_extension": ".py",
   "mimetype": "text/x-python",
   "name": "python",
   "nbconvert_exporter": "python",
   "pygments_lexer": "ipython3",
   "version": "3.6.5"
  }
 },
 "nbformat": 4,
 "nbformat_minor": 5
}
