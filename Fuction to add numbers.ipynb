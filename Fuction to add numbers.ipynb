{
 "cells": [
  {
   "cell_type": "markdown",
   "id": "a1cb5559",
   "metadata": {},
   "source": [
    "Write code that takes in three inputs from the user and calculate their sum"
   ]
  },
  {
   "cell_type": "code",
   "execution_count": 1,
   "id": "ee37588f",
   "metadata": {},
   "outputs": [
    {
     "name": "stdout",
     "output_type": "stream",
     "text": [
      "Enter your 1st number:30\n",
      "Enter your 2nd number: 24\n",
      "Enter your 3rd number: 11\n",
      "The sum is: \n"
     ]
    },
    {
     "data": {
      "text/plain": [
       "65"
      ]
     },
     "execution_count": 1,
     "metadata": {},
     "output_type": "execute_result"
    }
   ],
   "source": [
    "def sum(x,y,z):\n",
    "    return x + y + z\n",
    "\n",
    "num1 = int (input(\"Enter your 1st number:\"))\n",
    "num2 = int (input(\"Enter your 2nd number: \"))\n",
    "num3 = int (input(\"Enter your 3rd number: \"))\n",
    "print(\"The sum is: \")\n",
    "sum(num1, num2, num3)"
   ]
  },
  {
   "cell_type": "code",
   "execution_count": null,
   "id": "b6f64a9a",
   "metadata": {},
   "outputs": [],
   "source": []
  }
 ],
 "metadata": {
  "kernelspec": {
   "display_name": "Python 3",
   "language": "python",
   "name": "python3"
  },
  "language_info": {
   "codemirror_mode": {
    "name": "ipython",
    "version": 3
   },
   "file_extension": ".py",
   "mimetype": "text/x-python",
   "name": "python",
   "nbconvert_exporter": "python",
   "pygments_lexer": "ipython3",
   "version": "3.6.5"
  }
 },
 "nbformat": 4,
 "nbformat_minor": 5
}
