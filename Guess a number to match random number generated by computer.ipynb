{
 "cells": [
  {
   "cell_type": "code",
   "execution_count": 8,
   "id": "b691e22f",
   "metadata": {},
   "outputs": [
    {
     "data": {
      "text/plain": [
       "57"
      ]
     },
     "execution_count": 8,
     "metadata": {},
     "output_type": "execute_result"
    }
   ],
   "source": [
    "import random\n",
    "\n",
    "x_rand = random.randint(1, 101)\n",
    "x_rand"
   ]
  },
  {
   "cell_type": "code",
   "execution_count": 9,
   "id": "23ddeb92",
   "metadata": {},
   "outputs": [
    {
     "name": "stdout",
     "output_type": "stream",
     "text": [
      "Enter any number between 1 and 10056\n",
      "Your guess is low, guess a higher number:78\n",
      "Your guess is high, guess a lower number: 57\n",
      "You are right, great job!\n"
     ]
    }
   ],
   "source": [
    "x = (int)(input(\"Enter any number between 1 and 100 \"))\n",
    "\n",
    "\n",
    "while x_rand != x:\n",
    "    if x_rand > x:\n",
    "        x= (int)(input(\"Your guess is low, guess a higher number:\"))\n",
    "    else:\n",
    "        x = (int)(input(\"Your guess is high, guess a lower number: \"))\n",
    "\n",
    "print(\"You are right, great job!\")"
   ]
  },
  {
   "cell_type": "code",
   "execution_count": null,
   "id": "13412818",
   "metadata": {},
   "outputs": [],
   "source": []
  }
 ],
 "metadata": {
  "kernelspec": {
   "display_name": "Python 3",
   "language": "python",
   "name": "python3"
  },
  "language_info": {
   "codemirror_mode": {
    "name": "ipython",
    "version": 3
   },
   "file_extension": ".py",
   "mimetype": "text/x-python",
   "name": "python",
   "nbconvert_exporter": "python",
   "pygments_lexer": "ipython3",
   "version": "3.6.5"
  }
 },
 "nbformat": 4,
 "nbformat_minor": 5
}
